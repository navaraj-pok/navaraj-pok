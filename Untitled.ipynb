{
 "cells": [
  {
   "cell_type": "code",
   "execution_count": 11,
   "id": "6573f1b7",
   "metadata": {},
   "outputs": [],
   "source": [
    "simplify= lambda a:a*2"
   ]
  },
  {
   "cell_type": "code",
   "execution_count": 12,
   "id": "5ba0dbb6",
   "metadata": {},
   "outputs": [
    {
     "data": {
      "text/plain": [
       "10"
      ]
     },
     "execution_count": 12,
     "metadata": {},
     "output_type": "execute_result"
    }
   ],
   "source": [
    "simplify(5)"
   ]
  },
  {
   "cell_type": "code",
   "execution_count": 3,
   "id": "bad9e96a",
   "metadata": {},
   "outputs": [],
   "source": [
    "def simple(a,b,c):\n",
    "    return (a+b)*c"
   ]
  },
  {
   "cell_type": "code",
   "execution_count": 4,
   "id": "00b13118",
   "metadata": {},
   "outputs": [
    {
     "data": {
      "text/plain": [
       "100"
      ]
     },
     "execution_count": 4,
     "metadata": {},
     "output_type": "execute_result"
    }
   ],
   "source": [
    "simple(5,5,10)"
   ]
  },
  {
   "cell_type": "code",
   "execution_count": 13,
   "id": "b41b3c5b",
   "metadata": {},
   "outputs": [],
   "source": [
    "num_list=[2,4,6,8,10]"
   ]
  },
  {
   "cell_type": "code",
   "execution_count": 17,
   "id": "4d54e3be",
   "metadata": {},
   "outputs": [
    {
     "data": {
      "text/plain": [
       "[2, 4, 6, 8, 10]"
      ]
     },
     "execution_count": 17,
     "metadata": {},
     "output_type": "execute_result"
    }
   ],
   "source": [
    "list(filter(simplify,num_list))"
   ]
  },
  {
   "cell_type": "code",
   "execution_count": null,
   "id": "96bc8d8c",
   "metadata": {},
   "outputs": [],
   "source": []
  }
 ],
 "metadata": {
  "kernelspec": {
   "display_name": "Python 3 (ipykernel)",
   "language": "python",
   "name": "python3"
  },
  "language_info": {
   "codemirror_mode": {
    "name": "ipython",
    "version": 3
   },
   "file_extension": ".py",
   "mimetype": "text/x-python",
   "name": "python",
   "nbconvert_exporter": "python",
   "pygments_lexer": "ipython3",
   "version": "3.9.13"
  }
 },
 "nbformat": 4,
 "nbformat_minor": 5
}
